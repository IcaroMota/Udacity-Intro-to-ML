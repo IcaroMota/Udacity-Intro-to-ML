{
 "cells": [
  {
   "cell_type": "code",
   "execution_count": 1,
   "metadata": {},
   "outputs": [],
   "source": [
    "import pickle\n",
    "import numpy\n",
    "numpy.random.seed(42)"
   ]
  },
  {
   "cell_type": "code",
   "execution_count": 3,
   "metadata": {},
   "outputs": [],
   "source": [
    "### The words (features) and authors (labels), already largely processed.\n",
    "### These files should have been created from the previous (Lesson 10)\n",
    "### mini-project.\n",
    "words_file = \"../Lesson11_Text_Learning/your_word_data.pkl\"\n",
    "authors_file = \"../Lesson11_Text_Learning/your_email_authors.pkl\"\n",
    "word_data = pickle.load( open(words_file, \"rb\"))\n",
    "authors = pickle.load( open(authors_file, \"rb\") )"
   ]
  },
  {
   "cell_type": "code",
   "execution_count": 4,
   "metadata": {},
   "outputs": [],
   "source": [
    "### test_size is the percentage of events assigned to the test set (the\n",
    "### remainder go into training)\n",
    "### feature matrices changed to dense representations for compatibility with\n",
    "### classifier functions in versions 0.15.2 and earlier\n",
    "from sklearn.model_selection import train_test_split\n",
    "features_train, features_test, labels_train, labels_test = train_test_split(word_data, authors, test_size=0.1, random_state=42)\n",
    "\n",
    "from sklearn.feature_extraction.text import TfidfVectorizer\n",
    "vectorizer = TfidfVectorizer(sublinear_tf=True, max_df=0.5,\n",
    "                             stop_words='english')\n",
    "features_train = vectorizer.fit_transform(features_train)\n",
    "features_test  = vectorizer.transform(features_test).toarray()"
   ]
  },
  {
   "cell_type": "code",
   "execution_count": 5,
   "metadata": {
    "scrolled": true
   },
   "outputs": [
    {
     "name": "stdout",
     "output_type": "stream",
     "text": [
      "  (0, 14443)\t0.14876521156516873\n",
      "  (0, 9230)\t0.15319317367618754\n",
      "  (0, 9289)\t0.1524402447914948\n",
      "  (0, 7066)\t0.17307904959377443\n",
      "  (0, 34958)\t0.20252750489749624\n",
      "  (0, 36498)\t0.16499634954571638\n",
      "  (0, 39177)\t0.1444534431272945\n",
      "  (0, 13230)\t0.12855115561908526\n",
      "  (0, 24176)\t0.07838691841627216\n",
      "  (0, 20584)\t0.09486562992742903\n",
      "  (0, 19032)\t0.15319317367618754\n",
      "  (0, 37795)\t0.18504547033462262\n",
      "  (0, 20918)\t0.20927905409052713\n",
      "  (0, 22354)\t0.21559572869433935\n",
      "  (0, 22435)\t0.1425457734050851\n",
      "  (0, 13707)\t0.10830175512684624\n",
      "  (0, 33076)\t0.1900067487749454\n",
      "  (0, 31338)\t0.10113213463612022\n",
      "  (0, 34894)\t0.16459280102343818\n",
      "  (0, 20711)\t0.13003228041996917\n",
      "  (0, 22807)\t0.06571939113183842\n",
      "  (0, 32037)\t0.04604447582016248\n",
      "  (0, 319)\t0.17870700767535533\n",
      "  (0, 991)\t0.16943253106191417\n",
      "  (0, 15228)\t0.22586601730689795\n",
      "  :\t:\n",
      "  (0, 9231)\t0.07668710648301663\n",
      "  (0, 31787)\t0.11630400438674642\n",
      "  (0, 9309)\t0.07618910281138472\n",
      "  (0, 9576)\t0.07157469493566189\n",
      "  (0, 37932)\t0.07179602359195394\n",
      "  (0, 22823)\t0.06553740175395312\n",
      "  (0, 7002)\t0.07720766170449361\n",
      "  (0, 18469)\t0.12811262001921225\n",
      "  (0, 36934)\t0.0706309997090364\n",
      "  (0, 36101)\t0.07006806602079008\n",
      "  (0, 3669)\t0.07138509813903743\n",
      "  (0, 16193)\t0.0642165355337615\n",
      "  (0, 11436)\t0.06798622257838563\n",
      "  (0, 29992)\t0.06747877036077439\n",
      "  (0, 19152)\t0.05323111123998324\n",
      "  (0, 37981)\t0.06892438404308521\n",
      "  (0, 17957)\t0.08677886226472326\n",
      "  (0, 15291)\t0.134468461936167\n",
      "  (0, 10814)\t0.11406974183179562\n",
      "  (0, 31998)\t0.04608090165631573\n",
      "  (0, 12091)\t0.08929827558642597\n",
      "  (0, 37794)\t0.2410691034889078\n",
      "  (0, 15639)\t0.08927805815482755\n",
      "  (0, 23489)\t0.09182782804336673\n",
      "  (0, 25203)\t0.11337724599787224\n"
     ]
    }
   ],
   "source": [
    "print(features_train[0])"
   ]
  },
  {
   "cell_type": "code",
   "execution_count": 6,
   "metadata": {},
   "outputs": [],
   "source": [
    "### a classic way to overfit is to use a small number\n",
    "### of data points and a large number of features;\n",
    "### train on only 150 events to put ourselves in this regime\n",
    "features_train = features_train[:150]\n",
    "labels_train   = labels_train[:150]"
   ]
  },
  {
   "cell_type": "code",
   "execution_count": 7,
   "metadata": {},
   "outputs": [],
   "source": [
    "### your code goes here\n",
    "from sklearn import tree\n",
    "clf = tree.DecisionTreeClassifier()\n",
    "clf = clf.fit(features_train, labels_train)"
   ]
  },
  {
   "cell_type": "code",
   "execution_count": 8,
   "metadata": {},
   "outputs": [],
   "source": [
    "pred = clf.predict(features_test)"
   ]
  },
  {
   "cell_type": "code",
   "execution_count": 9,
   "metadata": {},
   "outputs": [
    {
     "data": {
      "text/plain": [
       "0.8162684869169511"
      ]
     },
     "execution_count": 9,
     "metadata": {},
     "output_type": "execute_result"
    }
   ],
   "source": [
    "from sklearn.metrics import accuracy_score\n",
    "accuracy_score(labels_test, pred)"
   ]
  },
  {
   "cell_type": "code",
   "execution_count": 10,
   "metadata": {},
   "outputs": [],
   "source": [
    "importance_list = clf.feature_importances_"
   ]
  },
  {
   "cell_type": "code",
   "execution_count": 11,
   "metadata": {},
   "outputs": [
    {
     "data": {
      "text/plain": [
       "0.3636363636363637"
      ]
     },
     "execution_count": 11,
     "metadata": {},
     "output_type": "execute_result"
    }
   ],
   "source": [
    "max(importance_list)"
   ]
  },
  {
   "cell_type": "code",
   "execution_count": 12,
   "metadata": {},
   "outputs": [
    {
     "data": {
      "text/plain": [
       "array([0.36363636])"
      ]
     },
     "execution_count": 12,
     "metadata": {},
     "output_type": "execute_result"
    }
   ],
   "source": [
    "importance_list[importance_list>0.2]"
   ]
  },
  {
   "cell_type": "code",
   "execution_count": 13,
   "metadata": {},
   "outputs": [
    {
     "data": {
      "text/plain": [
       "22807"
      ]
     },
     "execution_count": 13,
     "metadata": {},
     "output_type": "execute_result"
    }
   ],
   "source": [
    "list(importance_list).index(max(importance_list))"
   ]
  },
  {
   "cell_type": "code",
   "execution_count": 14,
   "metadata": {},
   "outputs": [],
   "source": [
    "feature_list = vectorizer.get_feature_names()"
   ]
  },
  {
   "cell_type": "code",
   "execution_count": 15,
   "metadata": {},
   "outputs": [
    {
     "data": {
      "text/plain": [
       "'houectect'"
      ]
     },
     "execution_count": 15,
     "metadata": {},
     "output_type": "execute_result"
    }
   ],
   "source": [
    "feature_list[22807]"
   ]
  }
 ],
 "metadata": {
  "kernelspec": {
   "display_name": "Python 3",
   "language": "python",
   "name": "python3"
  },
  "language_info": {
   "codemirror_mode": {
    "name": "ipython",
    "version": 3
   },
   "file_extension": ".py",
   "mimetype": "text/x-python",
   "name": "python",
   "nbconvert_exporter": "python",
   "pygments_lexer": "ipython3",
   "version": "3.7.6"
  }
 },
 "nbformat": 4,
 "nbformat_minor": 4
}
